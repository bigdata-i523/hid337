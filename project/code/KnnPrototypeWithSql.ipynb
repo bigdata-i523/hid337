{
 "cells": [
  {
   "cell_type": "code",
   "execution_count": 1,
   "metadata": {
    "collapsed": true
   },
   "outputs": [],
   "source": [
    "import pandas as pd\n",
    "import numpy as np\n",
    "import matplotlib.pyplot as plt\n",
    "from sklearn import model_selection\n",
    "from sklearn.metrics import classification_report\n",
    "from sklearn.metrics import confusion_matrix\n",
    "from sklearn.metrics import accuracy_score\n",
    "from sklearn.neighbors import KNeighborsClassifier\n",
    "\n",
    "import cx_Oracle\n",
    "import csv\n",
    "\n",
    "#sql operations\n",
    "SQL=\"SELECT * FROM training_data\"\n",
    "connection = cx_Oracle.connect('hr/hr@localhost:1521/xe')\n",
    "cursor = connection.cursor()\n",
    "cursor.execute(SQL)\n",
    "result = cursor.fetchall() \n",
    "sqlResult = [list(i) for i in result]\n",
    "\n",
    "cursor.close()\n",
    "connection.close()\n",
    "#DONE with sql\n",
    "\n",
    "trainArray = np.asarray(sqlResult)\n",
    "\n"
   ]
  },
  {
   "cell_type": "code",
   "execution_count": 2,
   "metadata": {},
   "outputs": [
    {
     "name": "stdout",
     "output_type": "stream",
     "text": [
      "Accuracy Score = 1\n",
      "   INT_AMB_TEMP  EXT_AMB_TEMP  INPUT_CUR  INPUT_VOLT  VIB_X_AXIS  VIB_Y_AXIS  \\\n",
      "0            41            30         12         115    2.696955   -0.894902   \n",
      "1            41            30         20         115    2.696955   -0.894902   \n",
      "2            91            30         12         115    2.696955   -0.894902   \n",
      "3            41            30         12         135    2.696955   -0.894902   \n",
      "4            51            45         18         120    2.696955   -0.894902   \n",
      "5            91            50         18         120    7.455679   -3.678868   \n",
      "6            85            55         19         125    8.455679   -4.678868   \n",
      "\n",
      "   VIB_Z_AXIS                    Result  \n",
      "0   -3.533973        NORMAL_OP_30_DEG_C  \n",
      "1   -3.533973    OVER_CURRENT_ FAULT_OP  \n",
      "2   -3.533973        OVER_TEMP_FAULT_OP  \n",
      "3   -3.533973  INPUT_OVER_VOLT_FAULT_OP  \n",
      "4   -3.533973      ABNORMAL_OP_30_DEG_C  \n",
      "5   -9.678345        BEARING_DEGRADE_OP  \n",
      "6   -8.678345        BEARING_DEGRADE_OP  \n"
     ]
    }
   ],
   "source": [
    "# Split-out validation dataset\n",
    "\n",
    "x = trainArray[:,0:7]\n",
    "y = trainArray[:,7]\n",
    "\n",
    "#random_state can be any number. This is to replicate results over multiple runs\n",
    "x_train, x_validation, y_train, y_validation = model_selection.train_test_split(x, y, test_size=.2, random_state=7)\n",
    "knn = KNeighborsClassifier(n_neighbors=2)\n",
    "knn.fit(x_train, y_train)\n",
    "\n",
    "#find accuracy score\n",
    "predictions = knn.predict(x_validation)\n",
    "score = accuracy_score(y_validation, predictions)\n",
    "print(\"Accuracy Score = %d\" % score)\n",
    "\n",
    "# Make predictions on test dataset\n",
    "resultColNames = ['INT_AMB_TEMP','EXT_AMB_TEMP','INPUT_CUR','INPUT_VOLT','VIB_X_AXIS','VIB_Y_AXIS','VIB_Z_AXIS']\n",
    "testData =  pd.read_csv('C:\\BIGDATA\\data\\sensor.test.data.csv',names=resultColNames) \n",
    "testArray = testData.values\n",
    "unknown = testArray[:,0:7]\n",
    "\n",
    "predictions = knn.predict(unknown)\n",
    "# Merge predictions column with Test Data\n",
    "\n",
    "testData['Result']= predictions\n",
    "\n",
    "print (testData)\n",
    "\n"
   ]
  }
 ],
 "metadata": {
  "kernelspec": {
   "display_name": "Python 3",
   "language": "python",
   "name": "python3"
  },
  "language_info": {
   "codemirror_mode": {
    "name": "ipython",
    "version": 3
   },
   "file_extension": ".py",
   "mimetype": "text/x-python",
   "name": "python",
   "nbconvert_exporter": "python",
   "pygments_lexer": "ipython3",
   "version": "3.6.3"
  }
 },
 "nbformat": 4,
 "nbformat_minor": 2
}
