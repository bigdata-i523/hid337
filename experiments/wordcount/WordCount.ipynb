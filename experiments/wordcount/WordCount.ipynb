{
 "cells": [
  {
   "cell_type": "markdown",
   "metadata": {},
   "source": [
    "# Word Count Experiment\n",
    "\n",
    "#### Python Program to count the frequency of words in a document. It takes two files as input. First file contains list words to be counted. Second file contains another set of words which needs to be excluded from the count. These words can also be numbers."
   ]
  },
  {
   "cell_type": "code",
   "execution_count": 3,
   "metadata": {},
   "outputs": [
    {
     "name": "stdout",
     "output_type": "stream",
     "text": [
      "Enter filename with words: c:\\BIGDATA\\wordsinput.txt\n",
      "Enter exclude filename with words: c:\\BIGDATA\\wordsexclude.txt\n",
      "   Word  Count   Count %\n",
      "0    of  42193  4.889969\n",
      "1    to  25344  2.937250\n",
      "2    in  24959  2.892630\n",
      "3     a  20113  2.331002\n",
      "4    is  13936  1.615116\n",
      "5   for  10307  1.194533\n",
      "6    as   8801  1.019994\n",
      "7  with   7363  0.853337\n",
      "8    on   6762  0.783684\n",
      "9   are   6679  0.774064\n"
     ]
    },
    {
     "data": {
      "image/png": "[encoded data removed]",
      "text/plain": [
       "<matplotlib.figure.Figure at 0xf456390>"
      ]
     },
     "metadata": {},
     "output_type": "display_data"
    }
   ],
   "source": [
    "import string\n",
    "import matplotlib.pylab as plt\n",
    "import operator\n",
    "import tkinter\n",
    "import pandas as pd\n",
    "from pylab import MaxNLocator\n",
    "\n",
    "#build hashmap with words from input file\n",
    "def buildHashmap(tokens):\n",
    "    hash_map = {}\n",
    "    if tokens is not None:\n",
    "        for element in tokens:\n",
    "            # convert to lower case ; remove ',' or '.' if any in input txt\n",
    "            word = element.replace(\",\",\"\").replace(\".\",\"\").lower()\n",
    "            # if already word exists then increment counter else add new entry into the map\n",
    "            if word in hash_map:\n",
    "                hash_map[word] = hash_map[word] + 1\n",
    "            else:\n",
    "                hash_map[word] = 1\n",
    "\n",
    "        return hash_map\n",
    "    else:\n",
    "        return None\n",
    "#function to delete from hashmap        \n",
    "def delete(map,key):\n",
    "  try:\n",
    "     del map[key]\n",
    "  except KeyError:\n",
    "     pass\n",
    "\n",
    "#function to get % column\n",
    "def get_column(array, col,total):\n",
    "  result = []\n",
    "  for row in array:\n",
    "    result.append((row[col]/total)*100)\n",
    "  return result\n",
    "                            \n",
    "def main():\n",
    "  try:\n",
    "   #read input file with words\n",
    "   fileName = input(\"Enter filename with words: \")\n",
    "   inputFile = open(fileName,\"r\",encoding='ascii')\n",
    "   words = inputFile.read().strip().split()\n",
    "\n",
    "   #read file with excluded words\n",
    "   excludeFileName = input(\"Enter exclude filename with words: \")\n",
    "   excludeFile = open(excludeFileName,\"r\")\n",
    "   excludeWords = excludeFile.read().strip().split()\n",
    "   \n",
    "   #build hashmap with input word list\n",
    "   wordsMap = buildHashmap(words)\n",
    "   \n",
    "   #delete excluded words from hashmap\n",
    "   for key in excludeWords:\n",
    "     delete(wordsMap,key.lower())\n",
    "   \n",
    "   #get top 10 list\n",
    "   top10 = sorted(wordsMap.items(), key=operator.itemgetter(1), reverse=True)[:10]\n",
    "      \n",
    "   #prepare output table with Word and Count column\n",
    "   df = pd.DataFrame(top10,columns=['Word','Count'])\n",
    "\n",
    "   #find total count which is required to calculate %\n",
    "   total = 0;\n",
    "   c3 = []\n",
    "   for key in wordsMap:\n",
    "\t   total = total+wordsMap[key]\n",
    "  \n",
    "   #create % column\n",
    "   c3 = get_column(top10, 1,total)\n",
    "  \n",
    "   #add % column to existing table\n",
    "   df['Count %'] = c3\n",
    "   \n",
    "   #print final result as a table\n",
    "   print(df)\n",
    "   \n",
    "   #draw bar chart   \n",
    "   ax = plt.figure().gca() #to show wholenumbers on the y-axis\n",
    "   ax.yaxis.set_major_locator(MaxNLocator(integer=True))\n",
    "   plt.bar(range(len(top10)), [val[1] for val in top10], align='center',color='gray')\n",
    "   plt.xticks(range(len(top10)), [val[0] for val in top10])\n",
    "   plt.xticks(rotation=90)\n",
    "   plt.xlabel('Words')\n",
    "   plt.ylabel('Frequency')\n",
    "   plt.title('Top 10 Words')\n",
    "   \n",
    "   plt.show()\n",
    "  \n",
    "  finally:\n",
    "    inputFile.close()\n",
    "    excludeFile.close()\n",
    "    \n",
    "#begin of the program\n",
    "main()"
   ]
  }
 ],
 "metadata": {
  "kernelspec": {
   "display_name": "Python 3",
   "language": "python",
   "name": "python3"
  },
  "language_info": {
   "codemirror_mode": {
    "name": "ipython",
    "version": 3
   },
   "file_extension": ".py",
   "mimetype": "text/x-python",
   "name": "python",
   "nbconvert_exporter": "python",
   "pygments_lexer": "ipython3",
   "version": "3.6.3"
  }
 },
 "nbformat": 4,
 "nbformat_minor": 2
}
